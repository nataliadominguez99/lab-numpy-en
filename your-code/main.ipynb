{
 "cells": [
  {
   "cell_type": "markdown",
   "metadata": {},
   "source": [
    "# Lab | Numpy Deep Dive"
   ]
  },
  {
   "cell_type": "markdown",
   "metadata": {},
   "source": [
    "### 1. Import the NUMPY package under the name np.\n"
   ]
  },
  {
   "cell_type": "code",
   "execution_count": 3,
   "metadata": {},
   "outputs": [],
   "source": [
    "import numpy as np \n"
   ]
  },
  {
   "cell_type": "markdown",
   "metadata": {},
   "source": [
    "\n",
    "\n",
    "### 2. Print the NUMPY version and the configuration.\n"
   ]
  },
  {
   "cell_type": "code",
   "execution_count": 4,
   "metadata": {},
   "outputs": [
    {
     "name": "stdout",
     "output_type": "stream",
     "text": [
      "NumPy Version: 2.1.3\n"
     ]
    }
   ],
   "source": [
    "#print installed version of NumPy\n",
    "print(\"NumPy Version:\", np.__version__) "
   ]
  },
  {
   "cell_type": "code",
   "execution_count": 5,
   "metadata": {},
   "outputs": [
    {
     "name": "stdout",
     "output_type": "stream",
     "text": [
      "Build Dependencies:\n",
      "  blas:\n",
      "    detection method: pkgconfig\n",
      "    found: true\n",
      "    include directory: C:/Users/naatt/anaconda3/Library/include\n",
      "    lib directory: C:/Users/naatt/anaconda3/Library/lib\n",
      "    name: mkl-sdl\n",
      "    openblas configuration: unknown\n",
      "    pc file directory: C:\\b\\abs_25aj347ekn\\croot\\numpy_and_numpy_base_1730835595898\\_h_env\\Library\\lib\\pkgconfig\n",
      "    version: '2023.1'\n",
      "  lapack:\n",
      "    detection method: pkgconfig\n",
      "    found: true\n",
      "    include directory: C:/Users/naatt/anaconda3/Library/include\n",
      "    lib directory: C:/Users/naatt/anaconda3/Library/lib\n",
      "    name: mkl-sdl\n",
      "    openblas configuration: unknown\n",
      "    pc file directory: C:\\b\\abs_25aj347ekn\\croot\\numpy_and_numpy_base_1730835595898\\_h_env\\Library\\lib\\pkgconfig\n",
      "    version: '2023.1'\n",
      "Compilers:\n",
      "  c:\n",
      "    commands: cl.exe\n",
      "    linker: link\n",
      "    name: msvc\n",
      "    version: 19.29.30156\n",
      "  c++:\n",
      "    commands: cl.exe\n",
      "    linker: link\n",
      "    name: msvc\n",
      "    version: 19.29.30156\n",
      "  cython:\n",
      "    commands: cython\n",
      "    linker: cython\n",
      "    name: cython\n",
      "    version: 3.0.11\n",
      "Machine Information:\n",
      "  build:\n",
      "    cpu: x86_64\n",
      "    endian: little\n",
      "    family: x86_64\n",
      "    system: windows\n",
      "  host:\n",
      "    cpu: x86_64\n",
      "    endian: little\n",
      "    family: x86_64\n",
      "    system: windows\n",
      "Python Information:\n",
      "  path: C:\\b\\abs_25aj347ekn\\croot\\numpy_and_numpy_base_1730835595898\\_h_env\\python.exe\n",
      "  version: '3.13'\n",
      "SIMD Extensions:\n",
      "  baseline:\n",
      "  - SSE\n",
      "  - SSE2\n",
      "  - SSE3\n",
      "  found:\n",
      "  - SSSE3\n",
      "  - SSE41\n",
      "  - POPCNT\n",
      "  - SSE42\n",
      "  - AVX\n",
      "  - F16C\n",
      "  - FMA3\n",
      "  - AVX2\n",
      "  not found:\n",
      "  - AVX512F\n",
      "  - AVX512CD\n",
      "  - AVX512_SKX\n",
      "  - AVX512_CLX\n",
      "  - AVX512_CNL\n",
      "  - AVX512_ICL\n",
      "\n"
     ]
    }
   ],
   "source": [
    "#prints configuration of my NumPy version. \n",
    "np.show_config()"
   ]
  },
  {
   "cell_type": "markdown",
   "metadata": {},
   "source": [
    "### 3. Generate a 2x3x5 3-dimensional array with random values. Assign the array to variable \"a\"\n",
    "Challenge: there are at least three easy ways that use numpy to generate random arrays. How many ways can you find?\n"
   ]
  },
  {
   "cell_type": "code",
   "execution_count": 6,
   "metadata": {},
   "outputs": [],
   "source": [
    "a = np.random.random([2,3,5])\n"
   ]
  },
  {
   "cell_type": "markdown",
   "metadata": {},
   "source": [
    "\n",
    "### 4. Print a.\n"
   ]
  },
  {
   "cell_type": "code",
   "execution_count": 7,
   "metadata": {},
   "outputs": [
    {
     "data": {
      "text/plain": [
       "array([[[0.08607347, 0.55862378, 0.32025883, 0.09586768, 0.55008824],\n",
       "        [0.76673549, 0.32945111, 0.94517036, 0.03495318, 0.04840134],\n",
       "        [0.0467557 , 0.56499578, 0.00262112, 0.89694342, 0.5194399 ]],\n",
       "\n",
       "       [[0.61089886, 0.49238972, 0.97898067, 0.83519242, 0.16529709],\n",
       "        [0.93281383, 0.2197997 , 0.86802425, 0.32937311, 0.55823196],\n",
       "        [0.7967864 , 0.49814126, 0.15026015, 0.68791184, 0.478662  ]]])"
      ]
     },
     "execution_count": 7,
     "metadata": {},
     "output_type": "execute_result"
    }
   ],
   "source": [
    "a"
   ]
  },
  {
   "cell_type": "code",
   "execution_count": 8,
   "metadata": {},
   "outputs": [
    {
     "data": {
      "text/plain": [
       "(2, 3, 5)"
      ]
     },
     "execution_count": 8,
     "metadata": {},
     "output_type": "execute_result"
    }
   ],
   "source": [
    "a.shape"
   ]
  },
  {
   "cell_type": "markdown",
   "metadata": {},
   "source": [
    "### 5. Create a 5x2x3 3-dimensional array with all values equaling 1.\n",
    "### Assign the array to variable \"b\"\n"
   ]
  },
  {
   "cell_type": "code",
   "execution_count": 9,
   "metadata": {},
   "outputs": [],
   "source": [
    "b = np.ones([5,2,3])\n"
   ]
  },
  {
   "cell_type": "markdown",
   "metadata": {},
   "source": [
    "\n",
    "### 6. Print b.\n"
   ]
  },
  {
   "cell_type": "code",
   "execution_count": 10,
   "metadata": {},
   "outputs": [
    {
     "data": {
      "text/plain": [
       "array([[[1., 1., 1.],\n",
       "        [1., 1., 1.]],\n",
       "\n",
       "       [[1., 1., 1.],\n",
       "        [1., 1., 1.]],\n",
       "\n",
       "       [[1., 1., 1.],\n",
       "        [1., 1., 1.]],\n",
       "\n",
       "       [[1., 1., 1.],\n",
       "        [1., 1., 1.]],\n",
       "\n",
       "       [[1., 1., 1.],\n",
       "        [1., 1., 1.]]])"
      ]
     },
     "execution_count": 10,
     "metadata": {},
     "output_type": "execute_result"
    }
   ],
   "source": [
    "b\n"
   ]
  },
  {
   "cell_type": "markdown",
   "metadata": {},
   "source": [
    "\n",
    "### 7. Do a and b have the same size? How do you prove that in Python code?\n"
   ]
  },
  {
   "cell_type": "code",
   "execution_count": 11,
   "metadata": {},
   "outputs": [
    {
     "name": "stdout",
     "output_type": "stream",
     "text": [
      "a and b have the same size\n"
     ]
    }
   ],
   "source": [
    "if a.size == b.size:\n",
    "    print (\"a and b have the same size\")\n",
    "else:\n",
    "    print(\"a and b are not the same size\")\n"
   ]
  },
  {
   "cell_type": "code",
   "execution_count": 12,
   "metadata": {},
   "outputs": [
    {
     "data": {
      "text/plain": [
       "True"
      ]
     },
     "execution_count": 12,
     "metadata": {},
     "output_type": "execute_result"
    }
   ],
   "source": [
    "ab = (a.size == b.size)\n",
    "ab"
   ]
  },
  {
   "cell_type": "markdown",
   "metadata": {},
   "source": [
    "\n",
    "### 8. Are you able to add a and b? Why or why not?\n"
   ]
  },
  {
   "cell_type": "code",
   "execution_count": 13,
   "metadata": {},
   "outputs": [
    {
     "ename": "ValueError",
     "evalue": "operands could not be broadcast together with shapes (2,3,5) (5,2,3) ",
     "output_type": "error",
     "traceback": [
      "\u001b[1;31m---------------------------------------------------------------------------\u001b[0m",
      "\u001b[1;31mValueError\u001b[0m                                Traceback (most recent call last)",
      "Cell \u001b[1;32mIn[13], line 1\u001b[0m\n\u001b[1;32m----> 1\u001b[0m np\u001b[38;5;241m.\u001b[39madd (a, b)\n",
      "\u001b[1;31mValueError\u001b[0m: operands could not be broadcast together with shapes (2,3,5) (5,2,3) "
     ]
    }
   ],
   "source": [
    "np.add (a, b)\n",
    "# it's not possible as the shape of the matrix is not the same. "
   ]
  },
  {
   "cell_type": "markdown",
   "metadata": {},
   "source": [
    "\n",
    "\n",
    "### 9. Transpose b so that it has the same structure of a (i.e. become a 2x3x5 array). Assign the transposed array to varialbe \"c\".\n"
   ]
  },
  {
   "cell_type": "code",
   "execution_count": 15,
   "metadata": {},
   "outputs": [
    {
     "name": "stdout",
     "output_type": "stream",
     "text": [
      "(2, 3, 5)\n",
      "(5, 2, 3)\n"
     ]
    }
   ],
   "source": [
    "print(a.shape)\n",
    "print(b.shape)\n"
   ]
  },
  {
   "cell_type": "code",
   "execution_count": 16,
   "metadata": {},
   "outputs": [
    {
     "name": "stdout",
     "output_type": "stream",
     "text": [
      "[[[1. 1. 1. 1. 1.]\n",
      "  [1. 1. 1. 1. 1.]]\n",
      "\n",
      " [[1. 1. 1. 1. 1.]\n",
      "  [1. 1. 1. 1. 1.]]\n",
      "\n",
      " [[1. 1. 1. 1. 1.]\n",
      "  [1. 1. 1. 1. 1.]]]\n",
      "(3, 2, 5)\n"
     ]
    }
   ],
   "source": [
    "transpose_b = np.transpose(b)\n",
    "print(transpose_b)\n",
    "print(transpose_b.shape)"
   ]
  },
  {
   "cell_type": "code",
   "execution_count": 17,
   "metadata": {},
   "outputs": [
    {
     "name": "stdout",
     "output_type": "stream",
     "text": [
      "[[[1. 1. 1. 1. 1.]\n",
      "  [1. 1. 1. 1. 1.]\n",
      "  [1. 1. 1. 1. 1.]]\n",
      "\n",
      " [[1. 1. 1. 1. 1.]\n",
      "  [1. 1. 1. 1. 1.]\n",
      "  [1. 1. 1. 1. 1.]]]\n",
      "(2, 3, 5)\n"
     ]
    }
   ],
   "source": [
    "c = np.reshape(transpose_b, (2,3,5))\n",
    "print(c)\n",
    "print(c.shape)"
   ]
  },
  {
   "cell_type": "markdown",
   "metadata": {},
   "source": [
    "\n",
    "### 10. Try to add a and c. Now it should work. Assign the sum to variable \"d\". But why does it work now?\n"
   ]
  },
  {
   "cell_type": "code",
   "execution_count": 18,
   "metadata": {},
   "outputs": [
    {
     "name": "stdout",
     "output_type": "stream",
     "text": [
      "Sum of Values:  [[[1.08607347 1.55862378 1.32025883 1.09586768 1.55008824]\n",
      "  [1.76673549 1.32945111 1.94517036 1.03495318 1.04840134]\n",
      "  [1.0467557  1.56499578 1.00262112 1.89694342 1.5194399 ]]\n",
      "\n",
      " [[1.61089886 1.49238972 1.97898067 1.83519242 1.16529709]\n",
      "  [1.93281383 1.2197997  1.86802425 1.32937311 1.55823196]\n",
      "  [1.7967864  1.49814126 1.15026015 1.68791184 1.478662  ]]]\n"
     ]
    }
   ],
   "source": [
    "d = a + c\n",
    "print(\"Sum of Values: \",d)\n"
   ]
  },
  {
   "cell_type": "code",
   "execution_count": 19,
   "metadata": {},
   "outputs": [
    {
     "name": "stdout",
     "output_type": "stream",
     "text": [
      "Sum of Values:  [[[1.08607347 1.55862378 1.32025883 1.09586768 1.55008824]\n",
      "  [1.76673549 1.32945111 1.94517036 1.03495318 1.04840134]\n",
      "  [1.0467557  1.56499578 1.00262112 1.89694342 1.5194399 ]]\n",
      "\n",
      " [[1.61089886 1.49238972 1.97898067 1.83519242 1.16529709]\n",
      "  [1.93281383 1.2197997  1.86802425 1.32937311 1.55823196]\n",
      "  [1.7967864  1.49814126 1.15026015 1.68791184 1.478662  ]]]\n"
     ]
    }
   ],
   "source": [
    "d = np.add (a,c)\n",
    "print(\"Sum of Values: \",d)"
   ]
  },
  {
   "cell_type": "markdown",
   "metadata": {},
   "source": [
    "\n",
    "### 11. Print a and d. Notice the difference and relation of the two array in terms of the values? Explain.\n"
   ]
  },
  {
   "cell_type": "code",
   "execution_count": 20,
   "metadata": {},
   "outputs": [
    {
     "name": "stdout",
     "output_type": "stream",
     "text": [
      "A = [[[0.08607347 0.55862378 0.32025883 0.09586768 0.55008824]\n",
      "  [0.76673549 0.32945111 0.94517036 0.03495318 0.04840134]\n",
      "  [0.0467557  0.56499578 0.00262112 0.89694342 0.5194399 ]]\n",
      "\n",
      " [[0.61089886 0.49238972 0.97898067 0.83519242 0.16529709]\n",
      "  [0.93281383 0.2197997  0.86802425 0.32937311 0.55823196]\n",
      "  [0.7967864  0.49814126 0.15026015 0.68791184 0.478662  ]]]\n",
      "\n",
      "D = [[[1.08607347 1.55862378 1.32025883 1.09586768 1.55008824]\n",
      "  [1.76673549 1.32945111 1.94517036 1.03495318 1.04840134]\n",
      "  [1.0467557  1.56499578 1.00262112 1.89694342 1.5194399 ]]\n",
      "\n",
      " [[1.61089886 1.49238972 1.97898067 1.83519242 1.16529709]\n",
      "  [1.93281383 1.2197997  1.86802425 1.32937311 1.55823196]\n",
      "  [1.7967864  1.49814126 1.15026015 1.68791184 1.478662  ]]]\n"
     ]
    }
   ],
   "source": [
    "print(f\"A = {a}\")\n",
    "\n",
    "print(f\"\\nD = {d}\")\n",
    "\n",
    "#Array D is array A with each element increased by 1. "
   ]
  },
  {
   "cell_type": "markdown",
   "metadata": {},
   "source": [
    "\n",
    "### 12. Multiply a and c. Assign the result to e.\n"
   ]
  },
  {
   "cell_type": "code",
   "execution_count": 21,
   "metadata": {},
   "outputs": [
    {
     "name": "stdout",
     "output_type": "stream",
     "text": [
      "\n",
      " Multiplication of Values:  [[[0.08607347 0.55862378 0.32025883 0.09586768 0.55008824]\n",
      "  [0.76673549 0.32945111 0.94517036 0.03495318 0.04840134]\n",
      "  [0.0467557  0.56499578 0.00262112 0.89694342 0.5194399 ]]\n",
      "\n",
      " [[0.61089886 0.49238972 0.97898067 0.83519242 0.16529709]\n",
      "  [0.93281383 0.2197997  0.86802425 0.32937311 0.55823196]\n",
      "  [0.7967864  0.49814126 0.15026015 0.68791184 0.478662  ]]]\n"
     ]
    }
   ],
   "source": [
    "e = np.multiply (a,c)\n",
    "print(\"\\n Multiplication of Values: \",e)"
   ]
  },
  {
   "cell_type": "markdown",
   "metadata": {},
   "source": [
    "\n",
    "\n",
    "### 13. Does e equal to a? Why or why not?\n"
   ]
  },
  {
   "cell_type": "code",
   "execution_count": 22,
   "metadata": {},
   "outputs": [
    {
     "data": {
      "text/plain": [
       "array([[[ True,  True,  True,  True,  True],\n",
       "        [ True,  True,  True,  True,  True],\n",
       "        [ True,  True,  True,  True,  True]],\n",
       "\n",
       "       [[ True,  True,  True,  True,  True],\n",
       "        [ True,  True,  True,  True,  True],\n",
       "        [ True,  True,  True,  True,  True]]])"
      ]
     },
     "execution_count": 22,
     "metadata": {},
     "output_type": "execute_result"
    }
   ],
   "source": [
    "e == a\n",
    "#e and a are equal because they both got multiplied by 1 hence why the answers remain the same. "
   ]
  },
  {
   "cell_type": "markdown",
   "metadata": {},
   "source": [
    "\n",
    "\n",
    "### 14. Identify the max, min, and mean values in d. Assign those values to variables \"d_max\", \"d_min\", and \"d_mean\"\n"
   ]
  },
  {
   "cell_type": "code",
   "execution_count": 23,
   "metadata": {},
   "outputs": [
    {
     "name": "stdout",
     "output_type": "stream",
     "text": [
      "1.9789806653581417\n",
      "1.002621121276285\n",
      "1.4789714220514334\n"
     ]
    }
   ],
   "source": [
    "d_max = np.max(d)\n",
    "d_min = np.min(d)\n",
    "d_mean = np.mean(d)\n",
    "print(d_max)\n",
    "print(d_min)\n",
    "print(d_mean)"
   ]
  },
  {
   "cell_type": "markdown",
   "metadata": {},
   "source": [
    "\n",
    "### 15. Now we want to label the values in d. First create an empty array \"f\" with the same shape (i.e. 2x3x5) as d using `np.empty`.\n"
   ]
  },
  {
   "cell_type": "code",
   "execution_count": 24,
   "metadata": {},
   "outputs": [],
   "source": [
    "f = np.empty ([2,3,5])\n"
   ]
  },
  {
   "cell_type": "markdown",
   "metadata": {},
   "source": [
    "\n",
    "\n",
    "\n",
    "### 16. Populate the values in f. For each value in d, if it's larger than d_min but smaller than d_mean, assign 25 to the corresponding value in f.\n",
    "If a value in d is larger than d_mean but smaller than d_max, assign 75 to the corresponding value in f.\n",
    "If a value equals to d_mean, assign 50 to the corresponding value in f.\n",
    "Assign 0 to the corresponding value(s) in f for d_min in d.\n",
    "Assign 100 to the corresponding value(s) in f for d_max in d.\n",
    "In the end, f should have only the following values: 0, 25, 50, 75, and 100.\n",
    "Note: you don't have to use Numpy in this question.\n",
    "\n"
   ]
  },
  {
   "cell_type": "code",
   "execution_count": 25,
   "metadata": {},
   "outputs": [
    {
     "name": "stdout",
     "output_type": "stream",
     "text": [
      "[[[1.08607347 1.55862378 1.32025883 1.09586768 1.55008824]\n",
      "  [1.76673549 1.32945111 1.94517036 1.03495318 1.04840134]\n",
      "  [1.0467557  1.56499578 1.00262112 1.89694342 1.5194399 ]]\n",
      "\n",
      " [[1.61089886 1.49238972 1.97898067 1.83519242 1.16529709]\n",
      "  [1.93281383 1.2197997  1.86802425 1.32937311 1.55823196]\n",
      "  [1.7967864  1.49814126 1.15026015 1.68791184 1.478662  ]]]\n"
     ]
    }
   ],
   "source": [
    "print(d)"
   ]
  },
  {
   "cell_type": "code",
   "execution_count": 26,
   "metadata": {},
   "outputs": [],
   "source": [
    "# Loop over the first dimension (layers) of the 3D array d\n",
    "for i in range(d.shape[0]):\n",
    "    # Loop over the second dimension (rows) of each layer in d\n",
    "    for j in range(d.shape[1]):\n",
    "        # Loop over the third dimension (columns) of each row in each layer\n",
    "        for k in range(d.shape[2]):\n",
    "            # Get the current value to avoid repeated indexing\n",
    "            current_value = d[i, j, k]\n",
    "            # If the current element is equal to the minimum value in d\n",
    "            if current_value == d_min:\n",
    "                f[i, j, k] = 0  # Assign 0 to the corresponding position in f\n",
    "            # If the current element is equal to the maximum value in d\n",
    "            elif current_value == d_max:\n",
    "                f[i, j, k] = 100  # Assign 100 to the corresponding position in f\n",
    "            # If the current element is equal to the mean value in d\n",
    "            elif current_value == d_mean:\n",
    "                f[i, j, k] = 50  # Assign 50 to the corresponding position in f\n",
    "            # If the current element is greater than the minimum but less than the mean\n",
    "            elif d_min < current_value < d_mean:\n",
    "                f[i, j, k] = 25  # Assign 25 to the corresponding position in f\n",
    "            # If the current element is greater than the mean but less than the maximum\n",
    "            elif d_mean < current_value < d_max:\n",
    "                f[i, j, k] = 75  # Assign 75 to the corresponding position in f"
   ]
  },
  {
   "cell_type": "code",
   "execution_count": 27,
   "metadata": {},
   "outputs": [
    {
     "name": "stdout",
     "output_type": "stream",
     "text": [
      "[[[ 25.  75.  25.  25.  75.]\n",
      "  [ 75.  25.  75.  25.  25.]\n",
      "  [ 25.  75.   0.  75.  75.]]\n",
      "\n",
      " [[ 75.  75. 100.  75.  25.]\n",
      "  [ 75.  25.  75.  25.  75.]\n",
      "  [ 75.  75.  25.  75.  25.]]]\n"
     ]
    }
   ],
   "source": [
    "print (f)"
   ]
  },
  {
   "cell_type": "markdown",
   "metadata": {},
   "source": [
    "\n",
    "\n",
    "\n",
    "\n",
    "### 17. Print d and f. Do you have your expected f?\n",
    "For instance, if your d is:\n",
    "array([[[1.85836099, 1.67064465, 1.62576044, 1.40243961, 1.88454931],\n",
    "        [1.75354326, 1.69403643, 1.36729252, 1.61415071, 1.12104981],\n",
    "        [1.72201435, 1.1862918 , 1.87078449, 1.7726778 , 1.88180042]],\n",
    "\n",
    "       [[1.44747908, 1.31673383, 1.02000951, 1.52218947, 1.97066381],\n",
    "        [1.79129243, 1.74983003, 1.96028037, 1.85166831, 1.65450881],\n",
    "        [1.18068344, 1.9587381 , 1.00656599, 1.93402165, 1.73514584]]])\n",
    "\n",
    "Your f should be:\n",
    "array([[[ 75.,  75.,  75.,  25.,  75.],\n",
    "        [ 75.,  75.,  25.,  25.,  25.],\n",
    "        [ 75.,  25.,  75.,  75.,  75.]],\n",
    "\n",
    "       [[ 25.,  25.,  25.,  25., 100.],\n",
    "        [ 75.,  75.,  75.,  75.,  75.],\n",
    "        [ 25.,  75.,   0.,  75.,  75.]]])\n",
    "\n"
   ]
  },
  {
   "cell_type": "code",
   "execution_count": 28,
   "metadata": {},
   "outputs": [
    {
     "name": "stdout",
     "output_type": "stream",
     "text": [
      "D = [[[1.08607347 1.55862378 1.32025883 1.09586768 1.55008824]\n",
      "  [1.76673549 1.32945111 1.94517036 1.03495318 1.04840134]\n",
      "  [1.0467557  1.56499578 1.00262112 1.89694342 1.5194399 ]]\n",
      "\n",
      " [[1.61089886 1.49238972 1.97898067 1.83519242 1.16529709]\n",
      "  [1.93281383 1.2197997  1.86802425 1.32937311 1.55823196]\n",
      "  [1.7967864  1.49814126 1.15026015 1.68791184 1.478662  ]]]\n",
      "\n",
      "F = [[[ 25.  75.  25.  25.  75.]\n",
      "  [ 75.  25.  75.  25.  25.]\n",
      "  [ 25.  75.   0.  75.  75.]]\n",
      "\n",
      " [[ 75.  75. 100.  75.  25.]\n",
      "  [ 75.  25.  75.  25.  75.]\n",
      "  [ 75.  75.  25.  75.  25.]]]\n"
     ]
    }
   ],
   "source": [
    "print(f\"D = {d}\")\n",
    "\n",
    "print(f\"\\nF = {f}\")\n"
   ]
  },
  {
   "cell_type": "markdown",
   "metadata": {},
   "source": [
    "### 18. Bonus question: instead of using numbers (i.e. 0, 25, 50, 75, and 100), how to use string values \n",
    "(\"A\", \"B\", \"C\", \"D\", and \"E\") to label the array elements? You are expecting the result to be:\n",
    "array([[[ 'D',  'D',  'D',  'B',  'D'],\n",
    "        [ 'D',  'D',  'B',  'B',  'B'],\n",
    "        [ 'D',  'B',  'D',  'D',  'D']],\n",
    "\n",
    "       [[ 'B',  'B',  'B',  'B',  'E'],\n",
    "        [ 'D',  'D',  'D',  'D',  'D'],\n",
    "        [ 'B',  'D',   'A',  'D', 'D']]])\n",
    "Again, you don't need Numpy in this question."
   ]
  },
  {
   "cell_type": "code",
   "execution_count": 29,
   "metadata": {},
   "outputs": [
    {
     "name": "stdout",
     "output_type": "stream",
     "text": [
      "[[['E' 'C' 'E' 'E' 'C']\n",
      "  ['C' 'E' 'C' 'E' 'E']\n",
      "  ['E' 'C' 'A' 'C' 'C']]\n",
      "\n",
      " [['C' 'C' 'B' 'C' 'E']\n",
      "  ['C' 'E' 'C' 'E' 'C']\n",
      "  ['C' 'C' 'E' 'C' 'E']]]\n"
     ]
    }
   ],
   "source": [
    "f = np.empty(d.shape, dtype=str)  # Create an array with the same shape as d, specifying the dtype as str\n",
    "\n",
    "for i in range(d.shape[0]):\n",
    "    for j in range(d.shape[1]):\n",
    "        for k in range(d.shape[2]):\n",
    "            current_value = d[i, j, k]\n",
    "            \n",
    "            if current_value == d_min:\n",
    "                f[i, j, k] = 'A'  # Assign 'A' for d_min\n",
    "            elif current_value == d_max:\n",
    "                f[i, j, k] = 'B'  # Assign 'B' for d_max\n",
    "            elif current_value > d_mean:\n",
    "                f[i, j, k] = 'C'  # Assign 'C' for values greater than d_mean\n",
    "            elif current_value == d_mean:\n",
    "                f[i, j, k] = 'D'  # Assign 'D' for values equal to d_mean\n",
    "            else:  # Covers the case where current_value < d_mean\n",
    "                f[i, j, k] = 'E'  # Assign 'E' for values less than d_mean\n",
    "\n",
    "print (f)"
   ]
  }
 ],
 "metadata": {
  "kernelspec": {
   "display_name": "base",
   "language": "python",
   "name": "python3"
  },
  "language_info": {
   "codemirror_mode": {
    "name": "ipython",
    "version": 3
   },
   "file_extension": ".py",
   "mimetype": "text/x-python",
   "name": "python",
   "nbconvert_exporter": "python",
   "pygments_lexer": "ipython3",
   "version": "3.13.5"
  }
 },
 "nbformat": 4,
 "nbformat_minor": 2
}
